{
 "cells": [
  {
   "cell_type": "code",
   "execution_count": 249,
   "metadata": {},
   "outputs": [],
   "source": [
    "from sklearn import datasets\n",
    "from sklearn.model_selection import train_test_split\n",
    "import numpy as np\n",
    "from sklearn import metrics\n",
    "from sklearn.svm import SVC\n",
    "\n",
    "iris = datasets.load_iris()\n",
    "\n",
    "X_iris = iris.data\n",
    "\n",
    "y_iris = iris.target"
   ]
  },
  {
   "cell_type": "code",
   "execution_count": 250,
   "metadata": {},
   "outputs": [],
   "source": [
    "y = list(map(lambda x: -1 if x == 0 else (1 if x == 1 else None) , y_iris))\n",
    "y = list(filter(lambda x: x != None, y))\n",
    "\n",
    "X = X_iris[:len(y)]\n",
    "\n",
    "X_train, X_test, y_train, y_test = train_test_split(X, y, test_size=0.3)\n"
   ]
  },
  {
   "cell_type": "code",
   "execution_count": 262,
   "metadata": {},
   "outputs": [
    {
     "name": "stdout",
     "output_type": "stream",
     "text": [
      "Teste: [-1, -1, 1, -1, 1, -1, 1, 1, -1, -1, 1, 1, 1, 1, 1, -1, -1, 1, 1, -1, -1, -1, 1, -1, 1, -1, -1, -1, -1, -1]\n",
      "Previsão: [-1, -1, 1, -1, 1, -1, 1, 1, -1, -1, 1, 1, 1, 1, 1, -1, -1, 1, 1, -1, -1, -1, 1, -1, 1, -1, -1, -1, -1, -1]\n",
      "Accuracy: 1.0\n"
     ]
    }
   ],
   "source": [
    "def K(x, u, gamma):\n",
    "    k = np.exp(-gamma*((np.linalg.norm(x-u))**2))\n",
    "    return k\n",
    "\n",
    "def decision(a, y, x, u, sigma, b):\n",
    "    sum = 0\n",
    "    for i in range(len(a)):\n",
    "        sum = sum + a[i]*y[i]*K(x[i], u, sigma)\n",
    "    f = sum + b\n",
    "\n",
    "    if f >= 0:\n",
    "        return 1\n",
    "    else:\n",
    "        return -1\n",
    "\n",
    "def optimizacao_alfa(C):\n",
    "    a = np.zeros((1, len(y_train)))\n",
    "    a = a.ravel()\n",
    "    firstTarget = np.random.randint(len(y_train))\n",
    "\n",
    "    a[firstTarget] = C\n",
    "\n",
    "    if y_train[firstTarget] == 1:\n",
    "        secondTarget = np.random.randint(len(y_train))\n",
    "        while y_train[secondTarget] != -1:\n",
    "            secondTarget = np.random.randint(len(y_train))\n",
    "        a[secondTarget] = C\n",
    "    elif y_train[firstTarget] == -1:\n",
    "        secondTarget = np.random.randint(len(y_train))\n",
    "        while y_train[secondTarget] != 1:\n",
    "            secondTarget = np.random.randint(len(y_train))\n",
    "        a[secondTarget] = C\n",
    "    return a\n",
    "\n",
    "\"\"\" clf = SVC(C=1, gamma=1)\n",
    "clf.fit(X_train, y_train)\n",
    "print(clf.support_vectors_) \"\"\"\n",
    "\n",
    "Y_pred = []\n",
    "a = optimizacao_alfa(10)\n",
    "\n",
    "for i in range(len(X_test)):\n",
    "    y_pred = decision(a, y_train, X_train, X_test[i], 1, 1)\n",
    "    Y_pred.append(y_pred)\n",
    "\n",
    "print(f'Teste: {y_test}')\n",
    "print(f'Previsão: {Y_pred}')\n",
    "\n",
    "accuracy = metrics.accuracy_score(y_test, Y_pred)\n",
    "\n",
    "print(f'Accuracy: {accuracy}')\n"
   ]
  },
  {
   "cell_type": "code",
   "execution_count": null,
   "metadata": {},
   "outputs": [],
   "source": []
  }
 ],
 "metadata": {
  "interpreter": {
   "hash": "16e4a8d9291233eec5f8fb39c9556c30b7f5166fa149a5f1188412b3630e02b1"
  },
  "kernelspec": {
   "display_name": "Python 3.9.9 64-bit",
   "language": "python",
   "name": "python3"
  },
  "language_info": {
   "codemirror_mode": {
    "name": "ipython",
    "version": 3
   },
   "file_extension": ".py",
   "mimetype": "text/x-python",
   "name": "python",
   "nbconvert_exporter": "python",
   "pygments_lexer": "ipython3",
   "version": "3.9.9"
  },
  "orig_nbformat": 4
 },
 "nbformat": 4,
 "nbformat_minor": 2
}
