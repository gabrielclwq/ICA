{
 "cells": [
  {
   "cell_type": "code",
   "execution_count": 1,
   "metadata": {},
   "outputs": [],
   "source": [
    "from sklearn import datasets\n",
    "from sklearn.model_selection import train_test_split\n",
    "import numpy as np\n",
    "from sklearn import metrics\n",
    "from sklearn.svm import SVC\n",
    "from scipy import stats\n",
    "\n",
    "iris = datasets.load_iris()\n",
    "\n",
    "X_iris = iris.data\n",
    "\n",
    "y_iris = iris.target"
   ]
  },
  {
   "cell_type": "code",
   "execution_count": 2,
   "metadata": {},
   "outputs": [],
   "source": [
    "# Separar os dados para implementação do svm\n",
    "y = list(map(lambda x: -1 if x == 0 else (1 if x == 1 else None) , y_iris))\n",
    "y = list(filter(lambda x: x != None, y))\n",
    "\n",
    "X = X_iris[:len(y)]\n",
    "\n",
    "X_train, X_test, y_train, y_test = train_test_split(X, y, test_size=0.3)\n"
   ]
  },
  {
   "cell_type": "code",
   "execution_count": 3,
   "metadata": {},
   "outputs": [],
   "source": [
    "#Definição de funções necessárias\n",
    "\n",
    "# Definir a função do kernel -> RBF\n",
    "def K(x, u, gamma):\n",
    "    k = np.exp(-gamma*((np.linalg.norm(x-u))**2))\n",
    "    return k\n",
    "\n",
    "#Define a função de descisão do modelo\n",
    "def decision(a, y, x, u, sigma, b):\n",
    "    sum = 0\n",
    "    for i in range(len(a)):\n",
    "        sum = sum + a[i]*y[i]*K(x[i], u, sigma)\n",
    "    f = sum + b\n",
    "\n",
    "    if f >= 0:\n",
    "        return 1\n",
    "    else:\n",
    "        return -1\n",
    "\n",
    "#Define a optimização para encontrar os suporte vector\n",
    "def optimizacao_alfa(C):\n",
    "    a = np.zeros((1, len(y_train)))\n",
    "    a = a.ravel()\n",
    "    firstTarget = np.random.randint(len(y_train))\n",
    "\n",
    "    a[firstTarget] = C\n",
    "\n",
    "    if y_train[firstTarget] == 1:\n",
    "        secondTarget = np.random.randint(len(y_train))\n",
    "        while y_train[secondTarget] != -1:\n",
    "            secondTarget = np.random.randint(len(y_train))\n",
    "        a[secondTarget] = C\n",
    "    elif y_train[firstTarget] == -1:\n",
    "        secondTarget = np.random.randint(len(y_train))\n",
    "        while y_train[secondTarget] != 1:\n",
    "            secondTarget = np.random.randint(len(y_train))\n",
    "        a[secondTarget] = C\n",
    "    return a\n"
   ]
  },
  {
   "cell_type": "code",
   "execution_count": 4,
   "metadata": {},
   "outputs": [
    {
     "name": "stdout",
     "output_type": "stream",
     "text": [
      "Teste: [1, 1, 1, 1, -1, -1, 1, -1, -1, 1, 1, 1, -1, 1, 1, 1, 1, 1, 1, 1, 1, -1, -1, 1, -1, -1, 1, 1, -1, -1]\n",
      "Previsão: [1, 1, 1, 1, -1, -1, 1, -1, -1, 1, 1, 1, -1, 1, 1, 1, 1, 1, 1, 1, 1, -1, -1, 1, -1, -1, 1, 1, -1, -1]\n",
      "Accuracy: 1.0\n"
     ]
    }
   ],
   "source": [
    "#Teste simples de funcionamento para um classificar com 2 classes\n",
    "Y_pred = []\n",
    "a = optimizacao_alfa(10)\n",
    "\n",
    "for i in range(len(X_test)):\n",
    "    y_pred = decision(a, y_train, X_train, X_test[i], 1, 1)\n",
    "    Y_pred.append(y_pred)\n",
    "\n",
    "print(f'Teste: {y_test}')\n",
    "print(f'Previsão: {Y_pred}')\n",
    "\n",
    "accuracy = metrics.accuracy_score(y_test, Y_pred)\n",
    "\n",
    "print(f'Accuracy: {accuracy}')\n"
   ]
  },
  {
   "cell_type": "code",
   "execution_count": 5,
   "metadata": {},
   "outputs": [
    {
     "name": "stdout",
     "output_type": "stream",
     "text": [
      "[ 0.  0.  0.  0.  0.  0.  0.  0.  0.  0.  0.  0.  0.  0.  0.  0.  0.  0.\n",
      "  0.  0.  0.  0.  0.  0.  0.  0.  0.  0.  0.  0.  0.  0.  0.  0. 10.  0.\n",
      "  0.  0.  0.  0.  0.  0.  0.  0.  0.  0.  0.  0.  0.  0.  0.  0.  0. 10.\n",
      "  0.  0.  0.  0.  0.  0.  0.  0.  0.  0.  0.  0.  0.  0.  0.]\n",
      "Classe = [0, 1]:\n",
      "\tPrevisão: [0, 0, 1, 1, 0, 0, 1, 1, 1, 0, 1, 1, 1, 1, 1, 1, 1, 1, 1, 1, 0, 0, 1, 0, 1, 1, 1, 1, 1, 1, 0, 1, 1, 0, 1, 1, 0, 1, 1, 0, 1, 0, 1, 0, 0]\n",
      "[ 0.  0.  0.  0.  0.  0.  0.  0.  0.  0.  0.  0.  0.  0.  0.  0.  0.  0.\n",
      "  0.  0.  0.  0.  0.  0.  0.  0.  0.  0.  0. 10.  0.  0.  0.  0.  0.  0.\n",
      "  0.  0.  0.  0.  0.  0. 10.  0.  0.  0.  0.  0.  0.  0.  0.  0.  0.  0.\n",
      "  0.  0.  0.  0.  0.  0.  0.  0.  0.  0.  0.  0.  0.  0.  0.  0.  0.]\n",
      "Classe = [0, 2]:\n",
      "\tPrevisão: [0, 0, 2, 2, 0, 0, 2, 2, 2, 0, 2, 2, 2, 2, 2, 2, 2, 2, 2, 2, 0, 0, 2, 0, 2, 2, 2, 2, 2, 2, 0, 2, 2, 0, 2, 2, 0, 2, 2, 0, 2, 0, 2, 0, 0]\n",
      "[ 0.  0.  0.  0.  0.  0.  0.  0.  0.  0.  0.  0.  0.  0.  0.  0.  0.  0.\n",
      "  0.  0.  0.  0.  0.  0.  0.  0.  0.  0.  0.  0.  0.  0.  0.  0.  0.  0.\n",
      "  0.  0.  0.  0.  0.  0.  0.  0.  0.  0.  0. 10.  0.  0.  0.  0.  0.  0.\n",
      "  0. 10.  0.  0.  0.  0.  0.  0.  0.  0.  0.  0.  0.  0.  0.  0.]\n",
      "Classe = [1, 2]:\n",
      "\tPrevisão: [2, 2, 2, 1, 2, 2, 2, 1, 1, 2, 1, 1, 1, 2, 1, 1, 1, 2, 2, 1, 2, 2, 1, 2, 1, 2, 1, 2, 2, 1, 2, 2, 1, 2, 2, 1, 2, 1, 1, 2, 1, 2, 2, 2, 2]\n"
     ]
    }
   ],
   "source": [
    "#One-vs-one classifier method\n",
    "\n",
    "X_train, X_test, Y_train, Y_test = train_test_split(X_iris, y_iris, test_size=0.3)\n",
    "\n",
    "#Pega os valores das classes no dataset em estudo\n",
    "y_set = list(set(Y_train))\n",
    "\n",
    "#Define os duelos entre as classes sem permetir repetição\n",
    "setClasses = []\n",
    "for i in range(len(y_set)-1):\n",
    "    for j in range(i+1,len(y_set)):\n",
    "        setClasses.append([y_set[i], y_set[j]])\n",
    "\n",
    "#Para cada duelo, iremos mapear os valores da classe como -1 e 1\n",
    "\n",
    "res = []\n",
    "for s in setClasses:\n",
    "    x_train = X_train.copy().tolist()\n",
    "    y_train = list(map(lambda x: -1 if x == s[0] else (1 if x == s[1] else None) , Y_train))\n",
    "    for i in range(len(y_train)):\n",
    "        if y_train[i] == None:\n",
    "            x_train[i] = None\n",
    "    y_train = list(filter(lambda x: x != None, y_train))\n",
    "    x_train = list(filter(lambda i: i != None, x_train))\n",
    "\n",
    "    #Com isso podemos rodar encontrar a classificação para cada classe:\n",
    "\n",
    "    Y_pred = []\n",
    "    a = optimizacao_alfa(10)\n",
    "\n",
    "    for i in range(len(X_test)):\n",
    "        y_pred = decision(a, y_train, x_train, X_test[i], 1, 1)\n",
    "        Y_pred.append(y_pred)\n",
    "\n",
    "    print(f'Classe = {str(s)}:')\n",
    "\n",
    "    Y_pred = list(map(lambda x: s[0] if x == -1 else (s[1] if x == 1 else None) , Y_pred))\n",
    "\n",
    "    print(f'\\tPrevisão: {Y_pred}')\n",
    "\n",
    "    res.append(Y_pred)"
   ]
  },
  {
   "cell_type": "code",
   "execution_count": 6,
   "metadata": {},
   "outputs": [
    {
     "name": "stdout",
     "output_type": "stream",
     "text": [
      "Previsão: [0 0 2 1 0 0 2 1 1 0 1 1 1 2 1 1 1 2 2 1 0 0 1 0 1 2 1 2 2 1 0 2 1 0 2 1 0\n",
      " 1 1 0 1 0 2 0 0]\n",
      "Teste: [0 0 1 1 0 0 2 1 1 0 1 1 1 2 1 1 1 2 2 2 0 0 1 0 1 2 2 2 1 1 0 2 2 0 2 2 0\n",
      " 2 1 0 1 0 2 0 0]\n",
      "\tAccuracy: 0.8444444444444444\n"
     ]
    }
   ],
   "source": [
    "#Obtendo a previsão para cada duelo, temos que achar a melhor que mais se repete:\n",
    "\n",
    "res = np.array(res)\n",
    "y_pred = stats.mode(res)[0].ravel()\n",
    "\n",
    "print(f'Previsão: {y_pred}')\n",
    "print(f'Teste: {Y_test}')\n",
    "y_pred = np.array(y_pred)\n",
    "Y_test = np.array(Y_test)\n",
    "\n",
    "accuracy = metrics.accuracy_score(Y_test, y_pred)\n",
    "\n",
    "print(f'\\tAccuracy: {accuracy}')"
   ]
  },
  {
   "cell_type": "code",
   "execution_count": 7,
   "metadata": {},
   "outputs": [
    {
     "name": "stdout",
     "output_type": "stream",
     "text": [
      "[ 0.  0.  0.  0.  0.  0.  0.  0.  0.  0.  0.  0.  0.  0.  0.  0.  0.  0.\n",
      "  0.  0.  0.  0.  0.  0.  0.  0.  0.  0.  0.  0.  0.  0.  0.  0.  0.  0.\n",
      "  0.  0.  0.  0.  0.  0.  0.  0.  0.  0.  0. 10.  0.  0.  0.  0.  0.  0.\n",
      "  0. 10.  0.  0.  0.  0.  0.  0.  0.  0.  0.  0.  0.  0.  0.  0.]\n"
     ]
    }
   ],
   "source": [
    "print(a)\n"
   ]
  },
  {
   "cell_type": "code",
   "execution_count": null,
   "metadata": {},
   "outputs": [],
   "source": []
  }
 ],
 "metadata": {
  "interpreter": {
   "hash": "16e4a8d9291233eec5f8fb39c9556c30b7f5166fa149a5f1188412b3630e02b1"
  },
  "kernelspec": {
   "display_name": "Python 3.9.9 64-bit",
   "language": "python",
   "name": "python3"
  },
  "language_info": {
   "codemirror_mode": {
    "name": "ipython",
    "version": 3
   },
   "file_extension": ".py",
   "mimetype": "text/x-python",
   "name": "python",
   "nbconvert_exporter": "python",
   "pygments_lexer": "ipython3",
   "version": "3.9.9"
  },
  "orig_nbformat": 4
 },
 "nbformat": 4,
 "nbformat_minor": 2
}
