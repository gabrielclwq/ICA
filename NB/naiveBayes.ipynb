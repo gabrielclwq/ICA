{
 "cells": [
  {
   "cell_type": "code",
   "execution_count": 20,
   "metadata": {},
   "outputs": [
    {
     "name": "stdout",
     "output_type": "stream",
     "text": [
      "[[  1.0708  23.     154.25   ...  32.      27.4     17.1   ]\n",
      " [  1.0853  22.     173.25   ...  30.5     28.9     18.2   ]\n",
      " [  1.0414  22.     154.     ...  28.8     25.2     16.6   ]\n",
      " ...\n",
      " [  1.0328  72.     186.75   ...  31.3     27.2     18.    ]\n",
      " [  1.0399  72.     190.75   ...  30.5     29.4     19.8   ]\n",
      " [  1.0271  74.     207.5    ...  33.7     30.      20.9   ]]\n",
      "[2 2 5 2 5 4 4 2 1 2 2 2 4 4 4 4 5 4 4 4 4 3 3 4 2 1 2 4 1 2 2 2 2 4 5 5 4\n",
      " 5 5 5 5 5 5 5 2 2 2 2 2 1 2 2 2 2 1 4 4 5 5 4 5 5 5 5 5 5 4 2 2 2 4 2 2 2\n",
      " 2 4 2 4 4 4 5 5 4 5 5 5 3 4 2 3 4 4 2 4 2 4 2 2 4 4 4 4 4 4 5 4 4 4 4 4 4\n",
      " 5 4 4 5 4 4 2 5 4 5 5 3 4 2 4 5 4 4 3 4 4 4 5 4 5 4 5 4 4 4 4 4 2 2 3 4 5\n",
      " 2 5 2 4 2 4 4 4 5 2 2 4 2 3 2 3 5 4 4 4 5 4 1 1 4 4 5 2 2 5 4 4 5 1 2 2 4\n",
      " 2 4 4 4 4 2 5 3 4 4 5 4 4 2 4 2 4 5 2 5 4 5 5 2 2 2 5 4 4 4 5 2 2 4 3 2 5\n",
      " 2 2 2 2 3 5 3 4 2 4 3 5 5 4 4 5 2 5 4 5 5 5 5 3 5 2 5 5 5 5]\n",
      "[[  1.0708  23.     154.25   ...  27.4     17.1      2.    ]\n",
      " [  1.0853  22.     173.25   ...  28.9     18.2      2.    ]\n",
      " [  1.0414  22.     154.     ...  25.2     16.6      5.    ]\n",
      " ...\n",
      " [  1.0328  72.     186.75   ...  27.2     18.       5.    ]\n",
      " [  1.0399  72.     190.75   ...  29.4     19.8      5.    ]\n",
      " [  1.0271  74.     207.5    ...  30.      20.9      5.    ]]\n"
     ]
    }
   ],
   "source": [
    "import numpy as np\n",
    "import pandas as pd\n",
    "\n",
    "# Load data:\n",
    "\n",
    "data = pd.read_csv(\"bodyfat.csv\")\n",
    "#print(data.head())\n",
    "\n",
    "# Preprocessing:\n",
    "\n",
    "predict = 'BodyFat'\n",
    "\n",
    "Y = data[predict]\n",
    "X = data.drop(columns=[predict])\n",
    "Xlabels = X.columns\n",
    "\n",
    "Y = Y.transform(lambda x: 1 if x <= 5 else (2 if x>5 and x<=14 else (3 if x>14 and x<16 else(4 if x>=16 and x<25 else 5))))\n",
    "\n",
    "#print(f'Target Class:\\n{Y.head()}')\n",
    "#print(f'Feature Class:\\n{X.head()}')\n",
    "\n",
    "X = X.to_numpy()\n",
    "Y = Y.to_numpy()\n",
    "\n",
    "print(np.column_stack((X, Y)))"
   ]
  }
 ],
 "metadata": {
  "interpreter": {
   "hash": "2647ea34e536f865ab67ff9ddee7fd78773d956cec0cab53c79b32cd10da5d83"
  },
  "kernelspec": {
   "display_name": "Python 3.9.5 64-bit",
   "language": "python",
   "name": "python3"
  },
  "language_info": {
   "name": "python",
   "version": "3.9.5"
  },
  "orig_nbformat": 4
 },
 "nbformat": 4,
 "nbformat_minor": 2
}
