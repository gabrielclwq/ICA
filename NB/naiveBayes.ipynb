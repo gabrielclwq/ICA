{
 "cells": [
  {
   "cell_type": "code",
   "execution_count": 335,
   "metadata": {},
   "outputs": [
    {
     "data": {
      "text/plain": [
       "{'divide': 'ignore', 'over': 'ignore', 'under': 'ignore', 'invalid': 'ignore'}"
      ]
     },
     "execution_count": 335,
     "metadata": {},
     "output_type": "execute_result"
    }
   ],
   "source": [
    "from pprint import pformat\n",
    "import numpy as np\n",
    "import pandas as pd\n",
    "import matplotlib.pyplot as plt\n",
    "from sklearn.model_selection import train_test_split\n",
    "import time\n",
    "from GaussianNB import GaussianNB \n",
    "import metrics, utils\n",
    "np.seterr(all=\"ignore\")"
   ]
  },
  {
   "cell_type": "code",
   "execution_count": 336,
   "metadata": {},
   "outputs": [
    {
     "name": "stdout",
     "output_type": "stream",
     "text": [
      "   Density  BodyFat  Age  Weight  Height  Neck  Chest  Abdomen    Hip  Thigh  \\\n",
      "0   1.0708     12.3   23  154.25   67.75  36.2   93.1     85.2   94.5   59.0   \n",
      "1   1.0853      6.1   22  173.25   72.25  38.5   93.6     83.0   98.7   58.7   \n",
      "2   1.0414     25.3   22  154.00   66.25  34.0   95.8     87.9   99.2   59.6   \n",
      "3   1.0751     10.4   26  184.75   72.25  37.4  101.8     86.4  101.2   60.1   \n",
      "4   1.0340     28.7   24  184.25   71.25  34.4   97.3    100.0  101.9   63.2   \n",
      "\n",
      "   Knee  Ankle  Biceps  Forearm  Wrist  \n",
      "0  37.3   21.9    32.0     27.4   17.1  \n",
      "1  37.3   23.4    30.5     28.9   18.2  \n",
      "2  38.9   24.0    28.8     25.2   16.6  \n",
      "3  37.3   22.8    32.4     29.4   18.2  \n",
      "4  42.2   24.0    32.2     27.7   17.7  \n"
     ]
    }
   ],
   "source": [
    "# Load data:\n",
    "\n",
    "data = pd.read_csv(\"bodyfat.csv\")\n",
    "print(data.head())"
   ]
  },
  {
   "cell_type": "code",
   "execution_count": 337,
   "metadata": {},
   "outputs": [
    {
     "name": "stdout",
     "output_type": "stream",
     "text": [
      "Target Class:\n",
      "0    2\n",
      "1    2\n",
      "2    5\n",
      "3    2\n",
      "4    5\n",
      "Name: BodyFat, dtype: int64\n",
      "Feature Class:\n",
      "   Density  Age  Weight  Height  Neck  Chest  Abdomen    Hip  Thigh  Knee  \\\n",
      "0   1.0708   23  154.25   67.75  36.2   93.1     85.2   94.5   59.0  37.3   \n",
      "1   1.0853   22  173.25   72.25  38.5   93.6     83.0   98.7   58.7  37.3   \n",
      "2   1.0414   22  154.00   66.25  34.0   95.8     87.9   99.2   59.6  38.9   \n",
      "3   1.0751   26  184.75   72.25  37.4  101.8     86.4  101.2   60.1  37.3   \n",
      "4   1.0340   24  184.25   71.25  34.4   97.3    100.0  101.9   63.2  42.2   \n",
      "\n",
      "   Ankle  Biceps  Forearm  Wrist  \n",
      "0   21.9    32.0     27.4   17.1  \n",
      "1   23.4    30.5     28.9   18.2  \n",
      "2   24.0    28.8     25.2   16.6  \n",
      "3   22.8    32.4     29.4   18.2  \n",
      "4   24.0    32.2     27.7   17.7  \n"
     ]
    }
   ],
   "source": [
    "# Preprocessing:\n",
    "\n",
    "predict = 'BodyFat'\n",
    "\n",
    "Y = data[predict]\n",
    "X = data.drop(columns=[predict])\n",
    "Xlabels = X.columns\n",
    "\n",
    "Y = Y.transform(lambda x: 1 if x <= 5 else (2 if x>5 and x<=14 else (3 if x>14 and x<16 else(4 if x>=16 and x<25 else 5))))\n",
    "\n",
    "print(f'Target Class:\\n{Y.head()}')\n",
    "print(f'Feature Class:\\n{X.head()}')\n",
    "\n",
    "Y = Y.to_numpy()\n",
    "X = X.to_numpy()"
   ]
  },
  {
   "cell_type": "code",
   "execution_count": 338,
   "metadata": {},
   "outputs": [
    {
     "data": {
      "image/png": "[encoded data removed]",
      "text/plain": [
       "<Figure size 432x288 with 1 Axes>"
      ]
     },
     "metadata": {
      "needs_background": "light"
     },
     "output_type": "display_data"
    }
   ],
   "source": [
    "# Distrubuition of data: \n",
    "\n",
    "Xd = X.copy()\n",
    "Yd = Y.copy()\n",
    "\n",
    "TargetLabels = list(set(Y))\n",
    "\n",
    "for i in range(len(Yd)):\n",
    "    for j in range(i + 1, len(Yd)):\n",
    "        if Yd[i] > Yd[j]:\n",
    "            Yd[i], Yd[j] = Yd[j], Yd[i]\n",
    "            Xd[i], Xd[j] = Xd[j], Xd[i]\n",
    "\n",
    "lens = [0]\n",
    "setY_ = list(set(Yd))\n",
    "soma = 0\n",
    "for i in range(len(setY_)):\n",
    "    for j in range(len(Yd)):\n",
    "        if Yd[j] == setY_[i]:\n",
    "            soma += 1\n",
    "    lens.append(soma)\n",
    "\n",
    "plt.figure()\n",
    "for i in range(len(setY_)):\n",
    "    plt.scatter(Xd[lens[i]:lens[i+1]-1, 0], Xd[lens[i]:lens[i+1]-1, 2])\n",
    "plt.legend(TargetLabels)\n",
    "plt.ylabel(Xlabels[2])\n",
    "plt.title(\"All Data Distribution\")\n",
    "plt.xlabel(Xlabels[0])\n",
    "plt.grid()"
   ]
  },
  {
   "cell_type": "code",
   "execution_count": 339,
   "metadata": {},
   "outputs": [
    {
     "name": "stdout",
     "output_type": "stream",
     "text": [
      "---------------------------------\n",
      "Y_test =   [2 3 4 2 5 4 2 2 2 4 5 4 2 4 4 2 5 5 2 4 5 4 4 4 4 4 3 5 4 2 2 2 2 5 2 3 4\n",
      " 5 4 4 4 2 2 4 5 4 2 3 2 4 4]\n",
      "Predição = [2. 4. 4. 2. 4. 4. 2. 2. 2. 4. 5. 5. 2. 4. 4. 2. 5. 5. 2. 4. 5. 4. 4. 4.\n",
      " 2. 4. 3. 5. 4. 2. 2. 2. 2. 5. 2. 3. 4. 5. 4. 4. 4. 4. 1. 4. 5. 4. 4. 3.\n",
      " 4. 4. 4.]\n",
      "---------------------------------\n",
      "---------------------------------\n",
      "Scores = [0.95116993 0.68915281 0.99966903 0.99956729 0.80778347 0.99886171\n",
      " 0.80421192 0.7021619  0.999807   0.98404502 0.99997269 0.99998054\n",
      " 0.84436536 0.856231   0.99690112 0.90346521 0.99999929 1.\n",
      " 0.99821652 0.87349614 0.99673027 0.99945596 0.65635021 0.9998482\n",
      " 0.9994369  0.99783722 0.78933577 0.99600331 0.99576634 0.99853382\n",
      " 0.99840032 0.98648985 0.97581912 0.99845046 0.99995755 0.71315708\n",
      " 0.99990334 1.         0.9936829  0.9852411  0.99648085 0.99991053\n",
      " 0.8914009  0.9997651  0.93841289 0.99988355 0.99939923 0.63793375\n",
      " 0.63622821 0.99883255 0.92411081]\n",
      "---------------------------------\n",
      "---------------------------------\n",
      "Accuracy = 0.8431372549019608\n",
      "---------------------------------\n",
      "---------------------------------\n",
      "Matriz confusão:\n",
      "[[13.  0.  3.  0.]\n",
      " [ 0.  3.  1.  0.]\n",
      " [ 1.  0. 19.  1.]\n",
      " [ 0.  0.  1.  8.]]\n",
      "---------------------------------\n"
     ]
    }
   ],
   "source": [
    "# Get all analysis from the best model find:\n",
    "\n",
    "X_train, X_test, Y_train, Y_test = train_test_split(X, Y, test_size=0.2)\n",
    "\n",
    "clf = GaussianNB()\n",
    "clf.fit(X_train, Y_train)\n",
    "pred = clf.predict(X_test)\n",
    "scores = clf.scores(X_test)\n",
    "accuracy = metrics.accuracy(Y_test, pred)\n",
    "matrizConf = metrics.matrizConfusao(Y_test, pred)\n",
    "\n",
    "print(\"---------------------------------\")\n",
    "print(f'Y_test =   {np.asarray(Y_test)}\\nPredição = {pred}')\n",
    "print(\"---------------------------------\")\n",
    "\n",
    "print(\"---------------------------------\")\n",
    "print(f'Scores = {scores}')\n",
    "print(\"---------------------------------\")\n",
    "\n",
    "print(\"---------------------------------\")\n",
    "print(f'Accuracy = {accuracy}')\n",
    "print(\"---------------------------------\")\n",
    "\n",
    "print(\"---------------------------------\")\n",
    "print(f'Matriz confusão:\\n{matrizConf}')\n",
    "print(\"---------------------------------\")"
   ]
  },
  {
   "cell_type": "code",
   "execution_count": 340,
   "metadata": {},
   "outputs": [],
   "source": [
    "# Split one vs all classes:\n",
    "\n",
    "# Get all classes in Y:\n",
    "\n",
    "dataset = np.column_stack((X, Y))\n",
    "\n",
    "columnsLabel = Xlabels.to_list()\n",
    "columnsLabel.append(\"Classes\")\n",
    "\n",
    "dataset = pd.DataFrame(dataset, columns=columnsLabel)\n",
    "\n",
    "def oneVSall(dataset, classe):\n",
    "    dataset[\"Classes\"] = dataset[\"Classes\"].transform(lambda x: 1 if x == classe else 0)\n",
    "    \n",
    "    return dataset"
   ]
  },
  {
   "cell_type": "code",
   "execution_count": 341,
   "metadata": {},
   "outputs": [
    {
     "name": "stdout",
     "output_type": "stream",
     "text": [
      "0      0\n",
      "1      0\n",
      "2      1\n",
      "3      0\n",
      "4      1\n",
      "      ..\n",
      "247    0\n",
      "248    1\n",
      "249    1\n",
      "250    1\n",
      "251    1\n",
      "Name: Classes, Length: 252, dtype: int64\n"
     ]
    },
    {
     "data": {
      "image/png": "[encoded data removed]",
      "text/plain": [
       "<Figure size 432x288 with 1 Axes>"
      ]
     },
     "metadata": {
      "needs_background": "light"
     },
     "output_type": "display_data"
    }
   ],
   "source": [
    "# Calculates the ROC analyses\n",
    "\n",
    "dataset = oneVSall(dataset, 5)\n",
    "\n",
    "predict = \"Classes\"\n",
    "\n",
    "Y_ = dataset[predict]\n",
    "X_ = dataset.drop(columns=[predict])\n",
    "\n",
    "print(Y_)\n",
    "\n",
    "Y_ = Y_.to_numpy()\n",
    "X_ = X_.to_numpy()\n",
    "\n",
    "X_train, X_test, Y_train, Y_test = train_test_split(X_, Y_, test_size=0.2)\n",
    "\n",
    "clf = GaussianNB()\n",
    "clf.fit(X_train, Y_train)\n",
    "scores = clf.scores(X_test)\n",
    "\n",
    "plt.figure()\n",
    "plt.plot([0, 1], [0, 1], linestyle='dashed', color=\"k\")\n",
    "fpr, tpr, A = metrics.ROC(Y_test, scores)\n",
    "plt.plot(fpr, tpr, label=f'ROC Curve Class {2} (area = {A})')\n",
    "plt.legend()\n",
    "plt.grid()\n",
    "plt.ylabel(\"True Positeve Rate\")\n",
    "plt.xlabel(\"False Positive Rate\")\n",
    "plt.title(f'Receiver Operating Characteristic')\n",
    "plt.show()\n"
   ]
  }
 ],
 "metadata": {
  "interpreter": {
   "hash": "16e4a8d9291233eec5f8fb39c9556c30b7f5166fa149a5f1188412b3630e02b1"
  },
  "kernelspec": {
   "display_name": "Python 3.9.9 64-bit",
   "language": "python",
   "name": "python3"
  },
  "language_info": {
   "codemirror_mode": {
    "name": "ipython",
    "version": 3
   },
   "file_extension": ".py",
   "mimetype": "text/x-python",
   "name": "python",
   "nbconvert_exporter": "python",
   "pygments_lexer": "ipython3",
   "version": "3.9.9"
  },
  "orig_nbformat": 4
 },
 "nbformat": 4,
 "nbformat_minor": 2
}
